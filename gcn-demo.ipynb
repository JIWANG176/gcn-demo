{
 "cells": [
  {
   "cell_type": "code",
   "execution_count": 1,
   "metadata": {},
   "outputs": [],
   "source": [
    "import numpy as np"
   ]
  },
  {
   "cell_type": "markdown",
   "metadata": {},
   "source": [
    "### 1. Hidden Layer of GCN"
   ]
  },
  {
   "cell_type": "code",
   "execution_count": 2,
   "metadata": {},
   "outputs": [
    {
     "data": {
      "text/plain": [
       "matrix([[1., 1., 0., 0.],\n",
       "        [0., 1., 1., 1.],\n",
       "        [0., 1., 1., 0.],\n",
       "        [1., 0., 1., 1.]])"
      ]
     },
     "execution_count": 2,
     "metadata": {},
     "output_type": "execute_result"
    }
   ],
   "source": [
    "# define the adjacency matrix\n",
    "A = np.matrix([\n",
    "    [0, 1, 0, 0],\n",
    "    [0, 0, 1, 1], \n",
    "    [0, 1, 0, 0],\n",
    "    [1, 0, 1, 0]],\n",
    "    dtype=float\n",
    ")\n",
    "I = np.matrix(np.eye(A.shape[0]))\n",
    "A_hat = A + I   # add self-loops to the adjacency matrix\n",
    "A_hat"
   ]
  },
  {
   "cell_type": "markdown",
   "metadata": {},
   "source": [
    "A_hat * X = the sum of the features of the neighbors for each node **including itself**"
   ]
  },
  {
   "cell_type": "code",
   "execution_count": 3,
   "metadata": {},
   "outputs": [
    {
     "data": {
      "text/plain": [
       "matrix([[2., 0., 0., 0.],\n",
       "        [0., 3., 0., 0.],\n",
       "        [0., 0., 3., 0.],\n",
       "        [0., 0., 0., 2.]])"
      ]
     },
     "execution_count": 3,
     "metadata": {},
     "output_type": "execute_result"
    }
   ],
   "source": [
    "D_hat = np.array(np.sum(A_hat, axis=0))[0]  # degree matrix with self-loops\n",
    "D_hat = np.matrix(np.diag(D_hat))\n",
    "D_hat"
   ]
  },
  {
   "cell_type": "markdown",
   "metadata": {},
   "source": [
    "D**-1 * A = the normalized adjacency matrix"
   ]
  },
  {
   "cell_type": "code",
   "execution_count": 4,
   "metadata": {},
   "outputs": [
    {
     "data": {
      "text/plain": [
       "matrix([[ 0.,  0.],\n",
       "        [ 1., -1.],\n",
       "        [ 2., -2.],\n",
       "        [ 3., -3.]])"
      ]
     },
     "execution_count": 4,
     "metadata": {},
     "output_type": "execute_result"
    }
   ],
   "source": [
    "# define the features for each node\n",
    "X = np.matrix([\n",
    "    [i, -i]\n",
    "    for i in range(A.shape[0])\n",
    "], dtype=float)\n",
    "X"
   ]
  },
  {
   "cell_type": "code",
   "execution_count": 5,
   "metadata": {},
   "outputs": [],
   "source": [
    "# define the weight matrix\n",
    "W = np.matrix([\n",
    "    [1, -1],\n",
    "    [-1, 1]\n",
    "], dtype=float)"
   ]
  },
  {
   "cell_type": "markdown",
   "metadata": {},
   "source": [
    "Output of the hidden layer:\n",
    "$$ f(X, A) = ReLU(\\hat{D}^{-1}*\\hat{A}*X*W) $$"
   ]
  },
  {
   "cell_type": "code",
   "execution_count": 6,
   "metadata": {},
   "outputs": [
    {
     "data": {
      "text/plain": [
       "matrix([[1., 0.],\n",
       "        [4., 0.],\n",
       "        [2., 0.],\n",
       "        [5., 0.]])"
      ]
     },
     "execution_count": 6,
     "metadata": {},
     "output_type": "execute_result"
    }
   ],
   "source": [
    "relu = lambda x: (abs(x) + x) / 2  # ReLU activation function\n",
    "relu(D_hat**-1 * A_hat * X * W)"
   ]
  },
  {
   "cell_type": "markdown",
   "metadata": {},
   "source": [
    "### 2. Application"
   ]
  },
  {
   "cell_type": "code",
   "execution_count": 7,
   "metadata": {},
   "outputs": [],
   "source": [
    "from networkx import to_numpy_matrix\n",
    "import networkx as nx"
   ]
  },
  {
   "cell_type": "code",
   "execution_count": 8,
   "metadata": {},
   "outputs": [
    {
     "name": "stdout",
     "output_type": "stream",
     "text": [
      "34\n",
      "78\n"
     ]
    }
   ],
   "source": [
    "zkc = nx.karate_club_graph()\n",
    "print(zkc.number_of_nodes()) # 34\n",
    "print(zkc.number_of_edges()) # 78"
   ]
  },
  {
   "cell_type": "code",
   "execution_count": 9,
   "metadata": {},
   "outputs": [
    {
     "data": {
      "text/plain": [
       "matrix([[1., 4., 5., ..., 2., 0., 0.],\n",
       "        [4., 1., 6., ..., 0., 0., 0.],\n",
       "        [5., 6., 1., ..., 0., 2., 0.],\n",
       "        ...,\n",
       "        [2., 0., 0., ..., 1., 4., 4.],\n",
       "        [0., 0., 2., ..., 4., 1., 5.],\n",
       "        [0., 0., 0., ..., 4., 5., 1.]])"
      ]
     },
     "execution_count": 9,
     "metadata": {},
     "output_type": "execute_result"
    }
   ],
   "source": [
    "order = sorted(list(zkc.nodes()))\n",
    "A = to_numpy_matrix(zkc, nodelist=order)\n",
    "I = np.eye(zkc.number_of_nodes())\n",
    "A_hat = A + I\n",
    "A_hat"
   ]
  },
  {
   "cell_type": "code",
   "execution_count": 10,
   "metadata": {},
   "outputs": [
    {
     "data": {
      "text/plain": [
       "matrix([[43.,  0.,  0., ...,  0.,  0.,  0.],\n",
       "        [ 0., 30.,  0., ...,  0.,  0.,  0.],\n",
       "        [ 0.,  0., 34., ...,  0.,  0.,  0.],\n",
       "        ...,\n",
       "        [ 0.,  0.,  0., ..., 22.,  0.,  0.],\n",
       "        [ 0.,  0.,  0., ...,  0., 39.,  0.],\n",
       "        [ 0.,  0.,  0., ...,  0.,  0., 49.]])"
      ]
     },
     "execution_count": 10,
     "metadata": {},
     "output_type": "execute_result"
    }
   ],
   "source": [
    "D_hat = np.array(np.sum(A_hat, axis=0))[0]\n",
    "D_hat = np.matrix(np.diag(D_hat))\n",
    "D_hat"
   ]
  },
  {
   "cell_type": "code",
   "execution_count": 11,
   "metadata": {},
   "outputs": [],
   "source": [
    "W_1 = np.random.normal(\n",
    "    loc=0, scale=1, size=(zkc.number_of_nodes(), 4))\n",
    "W_2 = np.random.normal(\n",
    "    loc=0, size=(W_1.shape[1], 2))"
   ]
  },
  {
   "cell_type": "code",
   "execution_count": 12,
   "metadata": {},
   "outputs": [],
   "source": [
    "def gcn_layer(A_hat, D_hat, X, W):\n",
    "    return relu(D_hat**-1 * A_hat * X * W)\n",
    "H_1 = gcn_layer(A_hat, D_hat, I, W_1)\n",
    "H_2 = gcn_layer(A_hat, D_hat, H_1, W_2)\n",
    "output = H_2"
   ]
  },
  {
   "cell_type": "code",
   "execution_count": 13,
   "metadata": {},
   "outputs": [],
   "source": [
    "feature_representations = {\n",
    "    node: np.array(output)[node] \n",
    "    for node in zkc.nodes()}"
   ]
  },
  {
   "cell_type": "code",
   "execution_count": 14,
   "metadata": {},
   "outputs": [
    {
     "data": {
      "image/png": "[encoded data removed]",
      "text/plain": [
       "<Figure size 432x288 with 1 Axes>"
      ]
     },
     "metadata": {
      "needs_background": "light"
     },
     "output_type": "display_data"
    }
   ],
   "source": [
    "import matplotlib.pyplot as plt\n",
    "\n",
    "for i in range(len(feature_representations)):\n",
    "    plt.scatter(\n",
    "        feature_representations[i][0], \n",
    "        feature_representations[i][1], \n",
    "        color='red' if zkc.nodes[i]['club'] == 'Mr. Hi' else 'blue')"
   ]
  },
  {
   "cell_type": "markdown",
   "metadata": {},
   "source": [
    "### 3. Implementation with PyTorch"
   ]
  },
  {
   "cell_type": "code",
   "execution_count": 17,
   "metadata": {},
   "outputs": [
    {
     "name": "stderr",
     "output_type": "stream",
     "text": [
      "d:\\ProgramFiles\\python3\\lib\\site-packages\\tqdm\\auto.py:22: TqdmWarning: IProgress not found. Please update jupyter and ipywidgets. See https://ipywidgets.readthedocs.io/en/stable/user_install.html\n",
      "  from .autonotebook import tqdm as notebook_tqdm\n"
     ]
    }
   ],
   "source": [
    "import torch\n",
    "import torch.nn as nn\n",
    "import torch.nn.functional as F\n",
    "import torch.optim as optim\n",
    "import numpy as np\n",
    "import torch.nn.init as init"
   ]
  },
  {
   "cell_type": "code",
   "execution_count": 34,
   "metadata": {},
   "outputs": [],
   "source": [
    "def norm(A):\n",
    "    \"\"\"\n",
    "    Normalize the Laplacian matrix.\n",
    "    D^(-1/2) * A * D^(-1/2)\n",
    "    \"\"\"\n",
    "    A += np.eye(A.shape[0]) # add self-loops\n",
    "    D = np.array(np.sum(A, axis=0))[0] # degree matrix\n",
    "    D = np.diag(np.power(D, -0.5))\n",
    "    return D.dot(A).dot(D)"
   ]
  },
  {
   "cell_type": "code",
   "execution_count": 35,
   "metadata": {},
   "outputs": [],
   "source": [
    "class GraphConvolution(nn.Module):\n",
    "    \"\"\"\n",
    "    Graph convolution layer.\n",
    "    \"\"\"\n",
    "    def __init__(self, input_size, output_size):\n",
    "        super(GraphConvolution, self).__init__()\n",
    "        self.linear = nn.Linear(input_size, output_size)\n",
    "\n",
    "    def forward(self, adj, features):\n",
    "        out = torch.mm(adj, features)\n",
    "        out = self.linear(out)\n",
    "        return out"
   ]
  },
  {
   "cell_type": "code",
   "execution_count": 48,
   "metadata": {},
   "outputs": [],
   "source": [
    "class GCN(nn.Module):\n",
    "    \"\"\"\n",
    "    Graph convolutional network.\n",
    "    \"\"\"\n",
    "    def __init__(self, input_size=34, hidden_size=5, output_size=2):\n",
    "        super(GCN, self).__init__()\n",
    "        self.gcn1 = GraphConvolution(input_size, hidden_size)\n",
    "        self.gcn2 = GraphConvolution(hidden_size, output_size)\n",
    "    \n",
    "    def forward(self, adj, features):\n",
    "        out = F.relu(self.gcn1(adj, features))\n",
    "        out = self.gcn2(adj, out)\n",
    "        return out"
   ]
  },
  {
   "cell_type": "code",
   "execution_count": 49,
   "metadata": {},
   "outputs": [],
   "source": [
    "LEARNING_RATE = 0.1\n",
    "WEIGHT_DACAY = 5e-4\n",
    "EPOCHS = 50\n",
    "DEVICE = \"cuda\" if torch.cuda.is_available() else \"cpu\""
   ]
  },
  {
   "cell_type": "code",
   "execution_count": 50,
   "metadata": {},
   "outputs": [
    {
     "data": {
      "text/plain": [
       "matrix([[0., 4., 5., ..., 2., 0., 0.],\n",
       "        [4., 0., 6., ..., 0., 0., 0.],\n",
       "        [5., 6., 0., ..., 0., 2., 0.],\n",
       "        ...,\n",
       "        [2., 0., 0., ..., 0., 4., 4.],\n",
       "        [0., 0., 2., ..., 4., 0., 5.],\n",
       "        [0., 0., 0., ..., 4., 5., 0.]])"
      ]
     },
     "execution_count": 50,
     "metadata": {},
     "output_type": "execute_result"
    }
   ],
   "source": [
    "to_numpy_matrix(zkc, nodelist=order)"
   ]
  },
  {
   "cell_type": "code",
   "execution_count": 51,
   "metadata": {},
   "outputs": [],
   "source": [
    "A = norm(to_numpy_matrix(zkc, nodelist=order))\n",
    "X = np.eye(zkc.number_of_nodes())\n",
    "y = np.array([zkc.nodes[i]['club'] == 'Mr. Hi' for i in range(zkc.number_of_nodes())], dtype=np.float32)\n",
    "\n",
    "A = torch.tensor(A, dtype=torch.float).to(DEVICE)\n",
    "X = torch.tensor(X, dtype=torch.float).to(DEVICE)\n",
    "y = torch.tensor(y, dtype=torch.long).to(DEVICE)"
   ]
  },
  {
   "cell_type": "code",
   "execution_count": 52,
   "metadata": {},
   "outputs": [],
   "source": [
    "net = GCN().to(DEVICE)\n",
    "loss = nn.CrossEntropyLoss().to(DEVICE)\n",
    "optimizer = optim.Adam(net.parameters(), lr=LEARNING_RATE, weight_decay=WEIGHT_DACAY)\n",
    "\n",
    "def train():\n",
    "    for epoch in range(EPOCHS):\n",
    "        out = net(A, X)\n",
    "        mask = [False if x != 0 and x != 33 else True for x in range(34)] # 只选择管理员和教练进行训练\n",
    "        l = loss(out[mask], y[mask])\n",
    "        optimizer.zero_grad()\n",
    "        l.backward()\n",
    "        optimizer.step()\n",
    "\n",
    "        print(f\"epoch: {epoch}, loss: {l.item()}\")"
   ]
  },
  {
   "cell_type": "code",
   "execution_count": 54,
   "metadata": {},
   "outputs": [
    {
     "name": "stdout",
     "output_type": "stream",
     "text": [
      "epoch: 0, loss: 0.6975094079971313\n",
      "epoch: 1, loss: 0.6589795351028442\n",
      "epoch: 2, loss: 0.5758370161056519\n",
      "epoch: 3, loss: 0.48125651478767395\n",
      "epoch: 4, loss: 0.3580932319164276\n",
      "epoch: 5, loss: 0.23399269580841064\n",
      "epoch: 6, loss: 0.1349605917930603\n",
      "epoch: 7, loss: 0.0665997639298439\n",
      "epoch: 8, loss: 0.0289047509431839\n",
      "epoch: 9, loss: 0.011973809450864792\n",
      "epoch: 10, loss: 0.0049828533083200455\n",
      "epoch: 11, loss: 0.002125728875398636\n",
      "epoch: 12, loss: 0.0009413220686838031\n",
      "epoch: 13, loss: 0.0004367768997326493\n",
      "epoch: 14, loss: 0.0002137704868800938\n",
      "epoch: 15, loss: 0.00011073669156758115\n",
      "epoch: 16, loss: 6.0734419093932956e-05\n",
      "epoch: 17, loss: 3.5344612115295604e-05\n",
      "epoch: 18, loss: 2.1814934370922856e-05\n",
      "epoch: 19, loss: 1.4245351849240251e-05\n",
      "epoch: 20, loss: 9.834689990384504e-06\n",
      "epoch: 21, loss: 7.152516445785295e-06\n",
      "epoch: 22, loss: 5.423999027698301e-06\n",
      "epoch: 23, loss: 4.3511236071935855e-06\n",
      "epoch: 24, loss: 3.635872417362407e-06\n",
      "epoch: 25, loss: 3.218642632418778e-06\n",
      "epoch: 26, loss: 2.9206207727838773e-06\n",
      "epoch: 27, loss: 2.7418077479524072e-06\n",
      "epoch: 28, loss: 2.682203330550692e-06\n",
      "epoch: 29, loss: 2.682203330550692e-06\n",
      "epoch: 30, loss: 2.801411937980447e-06\n",
      "epoch: 31, loss: 2.9206207727838773e-06\n",
      "epoch: 32, loss: 3.159037987643387e-06\n",
      "epoch: 33, loss: 3.516664264680003e-06\n",
      "epoch: 34, loss: 3.993498467025347e-06\n",
      "epoch: 35, loss: 4.529936632025056e-06\n",
      "epoch: 36, loss: 5.304791102389572e-06\n",
      "epoch: 37, loss: 6.1988530433154665e-06\n",
      "epoch: 38, loss: 7.390933660644805e-06\n",
      "epoch: 39, loss: 8.881032044882886e-06\n",
      "epoch: 40, loss: 1.0728748748078942e-05\n",
      "epoch: 41, loss: 1.3053288057562895e-05\n",
      "epoch: 42, loss: 1.597385198692791e-05\n",
      "epoch: 43, loss: 1.9609640730777755e-05\n",
      "epoch: 44, loss: 2.419905285933055e-05\n",
      "epoch: 45, loss: 2.9861275834264234e-05\n",
      "epoch: 46, loss: 3.683468821691349e-05\n",
      "epoch: 47, loss: 4.541726229945198e-05\n",
      "epoch: 48, loss: 5.5847340263426304e-05\n",
      "epoch: 49, loss: 6.842284346930683e-05\n"
     ]
    }
   ],
   "source": [
    "train()"
   ]
  },
  {
   "cell_type": "code",
   "execution_count": 56,
   "metadata": {},
   "outputs": [
    {
     "data": {
      "image/png": "[encoded data removed]",
      "text/plain": [
       "<Figure size 432x288 with 1 Axes>"
      ]
     },
     "metadata": {
      "needs_background": "light"
     },
     "output_type": "display_data"
    }
   ],
   "source": [
    "r = net(A, X).cpu().detach().numpy()\n",
    "import matplotlib.pyplot as plt\n",
    "fig = plt.figure()\n",
    "for i in range(34):\n",
    "    plt.scatter(r[i][0], r[i][1], color=\"r\" if y[i] == 0 else 'b')\n",
    "plt.show()"
   ]
  },
  {
   "cell_type": "code",
   "execution_count": null,
   "metadata": {},
   "outputs": [],
   "source": []
  }
 ],
 "metadata": {
  "kernelspec": {
   "display_name": "Python 3.9.13 64-bit",
   "language": "python",
   "name": "python3"
  },
  "language_info": {
   "codemirror_mode": {
    "name": "ipython",
    "version": 3
   },
   "file_extension": ".py",
   "mimetype": "text/x-python",
   "name": "python",
   "nbconvert_exporter": "python",
   "pygments_lexer": "ipython3",
   "version": "3.9.13"
  },
  "orig_nbformat": 4,
  "vscode": {
   "interpreter": {
    "hash": "bb633a12d11dc30df434576630afc913d986dae57cb6c8dd3204b88aa52721e0"
   }
  }
 },
 "nbformat": 4,
 "nbformat_minor": 2
}
